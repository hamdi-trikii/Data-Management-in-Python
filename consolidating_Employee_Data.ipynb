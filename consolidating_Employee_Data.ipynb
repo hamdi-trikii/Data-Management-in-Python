{
  "cells": [
    {
      "cell_type": "markdown",
      "metadata": {
        "id": "view-in-github",
        "colab_type": "text"
      },
      "source": [
        "<a href=\"https://colab.research.google.com/github/hamdi-trikii/Data-Management-in-Python/blob/main/consolidating_Employee_Data.ipynb\" target=\"_parent\"><img src=\"https://colab.research.google.com/assets/colab-badge.svg\" alt=\"Open In Colab\"/></a>"
      ]
    },
    {
      "source": [
        "You just got hired as the first and only data practitioner at a small business experiencing exponential growth. The company needs more structured processes, guidelines, and standards. Your first mission is to structure the human resources data. The data is currently scattered across teams and files and comes in various formats: Excel files, CSVs, JSON files...\n",
        "\n",
        "You'll work with the following data in the `datasets` folder:\n",
        "- __Office addresses__\n",
        "    - Saved in `office_addresses.csv`.\n",
        "    - If the value for office is `NaN`, then the employee is remote.\n",
        "- __Employee addresses__\n",
        "    - Saved on the first tab of `employee_information.xlsx`.\n",
        "- __Employee emergency contacts__\n",
        "    - Saved on the second tab of `employee_information.xlsx`; this tab is called `emergency_contacts`.\n",
        "    - However, this sheet was edited at some point, and ***the headers were removed***! The HR manager let you know that they should be: `employee_id`, `last_name`, `first_name`, `emergency_contact`, `emergency_contact_number`, and `relationship`.\n",
        "- __Employee roles, teams, and salaries__\n",
        "    - This information has been exported from the company's human resources management system into a JSON file titled `employee_roles.json`. Here are the first few lines of that file:\n",
        "```\n",
        "{\"A2R5H9\":\n",
        "  {\n",
        "    \"title\": \"CEO\",\n",
        "    \"monthly_salary\": \"$4500\",\n",
        "    \"team\": \"Leadership\"\n",
        "  },\n",
        " ...\n",
        "}\n",
        "```"
      ],
      "metadata": {
        "id": "243a702c-5afc-4606-8163-417b722e76af"
      },
      "id": "243a702c-5afc-4606-8163-417b722e76af",
      "cell_type": "markdown"
    },
    {
      "source": [
        "import pandas as pd\n",
        "# Start coding here...\n",
        "\n",
        "offices= pd.read_csv('datasets/office_addresses.csv')\n",
        "\n",
        "addresses = pd.read_excel('datasets/employee_information.xlsx')\n",
        "\n",
        "emergency_contacts_header = [\"employee_id\", \"last_name\", \"first_name\", \"emergency_contact\", \"emergency_contact_number\", \"relationship\"]\n",
        "\n",
        "emergency_contacts = pd.read_excel('datasets/employee_information.xlsx', sheet_name=\"emergency_contacts\", header=None , names=emergency_contacts_header)\n",
        "\n",
        "roles = pd.read_json('datasets/employee_roles.json', orient='index')\n",
        "print(offices)\n",
        "print(addresses)\n",
        "print(emergency_contacts)\n",
        "print(roles)"
      ],
      "metadata": {
        "id": "d0eb4f16-5a99-460d-a5ba-706b7ef0bbe7",
        "executionTime": 59,
        "lastSuccessfullyExecutedCode": "import pandas as pd\n# Start coding here... \n\noffices= pd.read_csv('datasets/office_addresses.csv')\n\naddresses = pd.read_excel('datasets/employee_information.xlsx')\n\nemergency_contacts_header = [\"employee_id\", \"last_name\", \"first_name\", \"emergency_contact\", \"emergency_contact_number\", \"relationship\"]\n\nemergency_contacts = pd.read_excel('datasets/employee_information.xlsx', sheet_name=\"emergency_contacts\", header=None , names=emergency_contacts_header)\n\nroles = pd.read_json('datasets/employee_roles.json', orient='index')\nprint(offices)\nprint(addresses)\nprint(emergency_contacts)\nprint(roles)",
        "executionCancelledAt": null,
        "lastExecutedAt": 1708119290029,
        "lastScheduledRunId": null,
        "outputsMetadata": {
          "0": {
            "height": 517,
            "type": "stream"
          }
        },
        "colab": {
          "base_uri": "https://localhost:8080/"
        },
        "outputId": "723e0c8c-e324-4784-c75c-026af7593cd1"
      },
      "id": "d0eb4f16-5a99-460d-a5ba-706b7ef0bbe7",
      "cell_type": "code",
      "execution_count": 2,
      "outputs": [
        {
          "output_type": "stream",
          "name": "stdout",
          "text": [
            "          office office_country    office_city   office_street  \\\n",
            "0  Leuven Office             BE         Leuven  Martelarenlaan   \n",
            "1     ESB Office             US  New York City    Fifth Avenue   \n",
            "2  WeWork Office             GB         London      Old Street   \n",
            "\n",
            "   office_street_number  \n",
            "0                    38  \n",
            "1                   350  \n",
            "2                   207  \n",
            "  employee_id employee_last_name employee_first_name employee_country  \\\n",
            "0      A2R5H9             Hunman                 Jax               BE   \n",
            "1      H8K0L6               Siff                Tara               GB   \n",
            "2      G4R7V0              Sagal               Gemma               US   \n",
            "3      M1Z7U9             Coates                 Tig               FR   \n",
            "\n",
            "  employee_city      employee_street  employee_street_number  \n",
            "0        Leuven          Grote Markt                       9  \n",
            "1        London         Baker Street                     221  \n",
            "2      New-York         Perry Street                      66  \n",
            "3         Paris  Rue de l'Université                       7  \n",
            "  employee_id last_name first_name emergency_contact emergency_contact_number  \\\n",
            "0      A2R5H9    Hunman        Jax        Opie Hurst          +32-456-5556-84   \n",
            "1      H8K0L6      Siff       Tara   Wendy de Matteo         +44-020-5554-333   \n",
            "2      G4R7V0     Sagal      Gemma      John Newmark           +1-202-555-194   \n",
            "3      M1Z7U9    Coates        Tig       Venus Noone          +1-202-555-0130   \n",
            "\n",
            "  relationship  \n",
            "0      Brother  \n",
            "1       Sister  \n",
            "2      Husband  \n",
            "3         Wife  \n",
            "                     title monthly_salary               team\n",
            "A2R5H9                 CEO          $4500         Leadership\n",
            "H8K0L6                 CFO          $4500         Leadership\n",
            "G4R7V0  Business Developer          $3000              Sales\n",
            "M1Z7U9      Office Manager          $2000  People Operations\n"
          ]
        }
      ]
    },
    {
      "source": [
        "Merging the DataFrames"
      ],
      "metadata": {
        "id": "5cbadf84-0139-4c47-91f2-c9c97042e27d"
      },
      "cell_type": "markdown",
      "id": "5cbadf84-0139-4c47-91f2-c9c97042e27d"
    },
    {
      "source": [
        "#merging addresses with offices\n",
        "employees = addresses.merge(offices, left_on=\"employee_country\", right_on=\"office_country\", how=\"left\")\n",
        "print(employees)\n",
        "\n",
        "# Merging employees with roles\n",
        "employees = employees.merge(roles, left_on=\"employee_id\", right_index=True)\n",
        "print(employees)\n",
        "\n",
        "#Merging employees with emergency_contacts\n",
        "employees = employees.merge(emergency_contacts, on=\"employee_id\", how=\"left\")\n",
        "print(employees)\n"
      ],
      "cell_type": "code",
      "id": "fec27fd5-53e1-4cd3-aa77-a4c38288895c",
      "outputs": [
        {
          "output_type": "stream",
          "name": "stdout",
          "text": [
            "  employee_id employee_last_name employee_first_name employee_country  \\\n",
            "0      A2R5H9             Hunman                 Jax               BE   \n",
            "1      H8K0L6               Siff                Tara               GB   \n",
            "2      G4R7V0              Sagal               Gemma               US   \n",
            "3      M1Z7U9             Coates                 Tig               FR   \n",
            "\n",
            "  employee_city      employee_street  employee_street_number         office  \\\n",
            "0        Leuven          Grote Markt                       9  Leuven Office   \n",
            "1        London         Baker Street                     221  WeWork Office   \n",
            "2      New-York         Perry Street                      66     ESB Office   \n",
            "3         Paris  Rue de l'Université                       7            NaN   \n",
            "\n",
            "  office_country    office_city   office_street  office_street_number  \n",
            "0             BE         Leuven  Martelarenlaan                  38.0  \n",
            "1             GB         London      Old Street                 207.0  \n",
            "2             US  New York City    Fifth Avenue                 350.0  \n",
            "3            NaN            NaN             NaN                   NaN  \n",
            "  employee_id employee_last_name employee_first_name employee_country  \\\n",
            "0      A2R5H9             Hunman                 Jax               BE   \n",
            "1      H8K0L6               Siff                Tara               GB   \n",
            "2      G4R7V0              Sagal               Gemma               US   \n",
            "3      M1Z7U9             Coates                 Tig               FR   \n",
            "\n",
            "  employee_city      employee_street  employee_street_number         office  \\\n",
            "0        Leuven          Grote Markt                       9  Leuven Office   \n",
            "1        London         Baker Street                     221  WeWork Office   \n",
            "2      New-York         Perry Street                      66     ESB Office   \n",
            "3         Paris  Rue de l'Université                       7            NaN   \n",
            "\n",
            "  office_country    office_city   office_street  office_street_number  \\\n",
            "0             BE         Leuven  Martelarenlaan                  38.0   \n",
            "1             GB         London      Old Street                 207.0   \n",
            "2             US  New York City    Fifth Avenue                 350.0   \n",
            "3            NaN            NaN             NaN                   NaN   \n",
            "\n",
            "                title monthly_salary               team  \n",
            "0                 CEO          $4500         Leadership  \n",
            "1                 CFO          $4500         Leadership  \n",
            "2  Business Developer          $3000              Sales  \n",
            "3      Office Manager          $2000  People Operations  \n",
            "  employee_id employee_last_name employee_first_name employee_country  \\\n",
            "0      A2R5H9             Hunman                 Jax               BE   \n",
            "1      H8K0L6               Siff                Tara               GB   \n",
            "2      G4R7V0              Sagal               Gemma               US   \n",
            "3      M1Z7U9             Coates                 Tig               FR   \n",
            "\n",
            "  employee_city      employee_street  employee_street_number         office  \\\n",
            "0        Leuven          Grote Markt                       9  Leuven Office   \n",
            "1        London         Baker Street                     221  WeWork Office   \n",
            "2      New-York         Perry Street                      66     ESB Office   \n",
            "3         Paris  Rue de l'Université                       7            NaN   \n",
            "\n",
            "  office_country    office_city   office_street  office_street_number  \\\n",
            "0             BE         Leuven  Martelarenlaan                  38.0   \n",
            "1             GB         London      Old Street                 207.0   \n",
            "2             US  New York City    Fifth Avenue                 350.0   \n",
            "3            NaN            NaN             NaN                   NaN   \n",
            "\n",
            "                title monthly_salary               team last_name first_name  \\\n",
            "0                 CEO          $4500         Leadership    Hunman        Jax   \n",
            "1                 CFO          $4500         Leadership      Siff       Tara   \n",
            "2  Business Developer          $3000              Sales     Sagal      Gemma   \n",
            "3      Office Manager          $2000  People Operations    Coates        Tig   \n",
            "\n",
            "  emergency_contact emergency_contact_number relationship  \n",
            "0        Opie Hurst          +32-456-5556-84      Brother  \n",
            "1   Wendy de Matteo         +44-020-5554-333       Sister  \n",
            "2      John Newmark           +1-202-555-194      Husband  \n",
            "3       Venus Noone          +1-202-555-0130         Wife  \n"
          ]
        }
      ],
      "execution_count": 5,
      "metadata": {
        "executionCancelledAt": null,
        "executionTime": 55,
        "lastExecutedAt": 1708119290084,
        "lastScheduledRunId": null,
        "lastSuccessfullyExecutedCode": "#merging addresses with offices\nemployees = addresses.merge(offices, left_on=\"employee_country\", right_on=\"office_country\", how=\"left\")\nprint(employees)\n\n# Merging employees with roles\nemployees = employees.merge(roles, left_on=\"employee_id\", right_index=True)\nprint(employees)\n\n#Merging employees with emergency_contacts\nemployees = employees.merge(emergency_contacts, on=\"employee_id\", how=\"left\")\nprint(employees)\n",
        "outputsMetadata": {
          "0": {
            "height": 437,
            "type": "stream"
          }
        },
        "colab": {
          "base_uri": "https://localhost:8080/"
        },
        "id": "fec27fd5-53e1-4cd3-aa77-a4c38288895c",
        "outputId": "f60241a4-152c-44da-f083-1a294bf98a8d"
      }
    },
    {
      "source": [
        "\n",
        "Cleaning and formatting the data\n"
      ],
      "metadata": {
        "id": "4a94d132-c7b7-4630-bcea-fcc6a0b49e6b"
      },
      "cell_type": "markdown",
      "id": "4a94d132-c7b7-4630-bcea-fcc6a0b49e6b"
    },
    {
      "source": [
        "#Filling null values\n",
        "for column in employees.columns:\n",
        "    if column.startswith(\"office\"):\n",
        "        employees[column].fillna(\"Remote\", inplace=True)\n",
        "print(employees)\n",
        "\n",
        "#Subsetting and reindexing the DataFrame\n",
        "final_columns = ['employee_id', 'employee_first_name', 'employee_last_name', 'employee_country', 'employee_city', 'employee_street', 'employee_street_number', 'emergency_contact', 'emergency_contact_number', 'relationship', 'monthly_salary', 'team', 'title', 'office', 'office_country', 'office_city', 'office_street', 'office_street_number']\n",
        "\n",
        "employees_final = employees[final_columns]\n",
        "employees_final.set_index(\"employee_id\", inplace=True)\n",
        "print(employees_final)"
      ],
      "metadata": {
        "executionCancelledAt": null,
        "executionTime": 70,
        "lastExecutedAt": 1708119290154,
        "lastScheduledRunId": null,
        "lastSuccessfullyExecutedCode": "#Filling null values\nfor column in employees.columns:\n    if column.startswith(\"office\"):\n        employees[column].fillna(\"Remote\", inplace=True)\nprint(employees)\n\n#Subsetting and reindexing the DataFrame\nfinal_columns = ['employee_id', 'employee_first_name', 'employee_last_name', 'employee_country', 'employee_city', 'employee_street', 'employee_street_number', 'emergency_contact', 'emergency_contact_number', 'relationship', 'monthly_salary', 'team', 'title', 'office', 'office_country', 'office_city', 'office_street', 'office_street_number']\n\nemployees_final = employees[final_columns]\nemployees_final.set_index(\"employee_id\", inplace=True)\nprint(employees_final)",
        "outputsMetadata": {
          "0": {
            "height": 317,
            "type": "stream"
          }
        },
        "colab": {
          "base_uri": "https://localhost:8080/"
        },
        "id": "03ebff71-4e80-473c-926e-b16a7f8f92f1",
        "outputId": "8a24d7ad-253f-4537-d777-2a13dc08e739"
      },
      "cell_type": "code",
      "id": "03ebff71-4e80-473c-926e-b16a7f8f92f1",
      "outputs": [
        {
          "output_type": "stream",
          "name": "stdout",
          "text": [
            "  employee_id employee_last_name employee_first_name employee_country  \\\n",
            "0      A2R5H9             Hunman                 Jax               BE   \n",
            "1      H8K0L6               Siff                Tara               GB   \n",
            "2      G4R7V0              Sagal               Gemma               US   \n",
            "3      M1Z7U9             Coates                 Tig               FR   \n",
            "\n",
            "  employee_city      employee_street  employee_street_number         office  \\\n",
            "0        Leuven          Grote Markt                       9  Leuven Office   \n",
            "1        London         Baker Street                     221  WeWork Office   \n",
            "2      New-York         Perry Street                      66     ESB Office   \n",
            "3         Paris  Rue de l'Université                       7         Remote   \n",
            "\n",
            "  office_country    office_city   office_street office_street_number  \\\n",
            "0             BE         Leuven  Martelarenlaan                 38.0   \n",
            "1             GB         London      Old Street                207.0   \n",
            "2             US  New York City    Fifth Avenue                350.0   \n",
            "3         Remote         Remote          Remote               Remote   \n",
            "\n",
            "                title monthly_salary               team last_name first_name  \\\n",
            "0                 CEO          $4500         Leadership    Hunman        Jax   \n",
            "1                 CFO          $4500         Leadership      Siff       Tara   \n",
            "2  Business Developer          $3000              Sales     Sagal      Gemma   \n",
            "3      Office Manager          $2000  People Operations    Coates        Tig   \n",
            "\n",
            "  emergency_contact emergency_contact_number relationship  \n",
            "0        Opie Hurst          +32-456-5556-84      Brother  \n",
            "1   Wendy de Matteo         +44-020-5554-333       Sister  \n",
            "2      John Newmark           +1-202-555-194      Husband  \n",
            "3       Venus Noone          +1-202-555-0130         Wife  \n",
            "            employee_first_name employee_last_name employee_country  \\\n",
            "employee_id                                                           \n",
            "A2R5H9                      Jax             Hunman               BE   \n",
            "H8K0L6                     Tara               Siff               GB   \n",
            "G4R7V0                    Gemma              Sagal               US   \n",
            "M1Z7U9                      Tig             Coates               FR   \n",
            "\n",
            "            employee_city      employee_street  employee_street_number  \\\n",
            "employee_id                                                              \n",
            "A2R5H9             Leuven          Grote Markt                       9   \n",
            "H8K0L6             London         Baker Street                     221   \n",
            "G4R7V0           New-York         Perry Street                      66   \n",
            "M1Z7U9              Paris  Rue de l'Université                       7   \n",
            "\n",
            "            emergency_contact emergency_contact_number relationship  \\\n",
            "employee_id                                                           \n",
            "A2R5H9             Opie Hurst          +32-456-5556-84      Brother   \n",
            "H8K0L6        Wendy de Matteo         +44-020-5554-333       Sister   \n",
            "G4R7V0           John Newmark           +1-202-555-194      Husband   \n",
            "M1Z7U9            Venus Noone          +1-202-555-0130         Wife   \n",
            "\n",
            "            monthly_salary               team               title  \\\n",
            "employee_id                                                         \n",
            "A2R5H9               $4500         Leadership                 CEO   \n",
            "H8K0L6               $4500         Leadership                 CFO   \n",
            "G4R7V0               $3000              Sales  Business Developer   \n",
            "M1Z7U9               $2000  People Operations      Office Manager   \n",
            "\n",
            "                    office office_country    office_city   office_street  \\\n",
            "employee_id                                                                \n",
            "A2R5H9       Leuven Office             BE         Leuven  Martelarenlaan   \n",
            "H8K0L6       WeWork Office             GB         London      Old Street   \n",
            "G4R7V0          ESB Office             US  New York City    Fifth Avenue   \n",
            "M1Z7U9              Remote         Remote         Remote          Remote   \n",
            "\n",
            "            office_street_number  \n",
            "employee_id                       \n",
            "A2R5H9                      38.0  \n",
            "H8K0L6                     207.0  \n",
            "G4R7V0                     350.0  \n",
            "M1Z7U9                    Remote  \n"
          ]
        }
      ],
      "execution_count": 6
    }
  ],
  "metadata": {
    "colab": {
      "provenance": [],
      "include_colab_link": true
    },
    "kernelspec": {
      "display_name": "Python 3 (ipykernel)",
      "language": "python",
      "name": "python3"
    },
    "language_info": {
      "codemirror_mode": {
        "name": "ipython",
        "version": 3
      },
      "file_extension": ".py",
      "mimetype": "text/x-python",
      "name": "python",
      "nbconvert_exporter": "python",
      "pygments_lexer": "ipython3",
      "version": "3.8.10"
    }
  },
  "nbformat": 4,
  "nbformat_minor": 5
}